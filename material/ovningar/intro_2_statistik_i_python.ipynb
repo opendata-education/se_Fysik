{
 "cells": [
  {
   "cell_type": "markdown",
   "metadata": {},
   "source": [
    "# Intro 2: Statistik i Python"
   ]
  },
  {
   "cell_type": "markdown",
   "metadata": {},
   "source": [
    "I denna notebook ska vi se på hur man importerar statistik till Python och presenterar den visuellt som en tabell, graf eller diagram.\n",
    "\n",
    "Vi kommer att använda **numpy**, som från tidigare är bekant, **pandas** och **matplotlib.pyplot**. När du har importerat ett paket är det tillgängligt för alla kodceller i dokumentet. Kom ihåg att köra import-kommandot igen varje gång du öppnar dokumentet."
   ]
  },
  {
   "cell_type": "code",
   "execution_count": null,
   "metadata": {},
   "outputs": [],
   "source": [
    "import matplotlib.pyplot as plt  # matplotlib.pyplot innehåller verktyg för att rita grafer och diagram.\n",
    "import pandas as pd              # pandas låter oss läsa in en datafil och spara den som en variabel i python.\n",
    "import numpy as np               "
   ]
  },
  {
   "cell_type": "markdown",
   "metadata": {},
   "source": [
    "### CSV-filer"
   ]
  },
  {
   "cell_type": "markdown",
   "metadata": {},
   "source": [
    "Många datafiler är i .csv-format (comma separated values). En tabell i ett kalkylblad kan sparas som .csv, och ser då ut ungefär så här:\n",
    "\n",
    "<img src=\"files/csvstudentexempel.PNG\" width=250>\n",
    "\n",
    "Csv-filer kan importeras till python, och blir då till en typ av tabellvariabel som kallas DataFrame.\n",
    "Eftersom största delen av open data-filer är tillgängliga som .csv, ska vi här se på hur man hanterar sådana tabeller."
   ]
  },
  {
   "cell_type": "markdown",
   "metadata": {},
   "source": [
    "### Statistik: Världens energiproduktion"
   ]
  },
  {
   "cell_type": "markdown",
   "metadata": {},
   "source": [
    "Den Notebook som du läser nu finns online på GitHub. I samma system av mappar på GitHub finns en csv-fil med information om världens energiproduktion 1800-2019. På GitHub, såväl som lokalt på din dator, kan du hänvisa till en fil med en *relativ sökväg*. Tillsammans med denna notebook finns mappen **files** och i den finns filen **global-energy-substitution.csv**. Vi kan alltså hitta filen med sökvägen \"files/global-energy-substitution.csv\", och vi kan importera den till python med pandas-funktionen **pd.read_csv()**.\n",
    "\n",
    "> Om du kör denna fil i Colab, eller om du kör den lokalt på din dator utan att ha laddat ned csv-filen också, så fungerar inte detta kommando. Då kan man istället hänvisa till filen med en länk: ``\"https://raw.githubusercontent.com/opendata-education/se_Fysik/main/material/ovningar/files/global-energy-substitution.csv\"``\n",
    "\n",
    "Vi sparar csv-filen som en DataFrame-variabel med namnet **energi**. Därefter kan vi se de första raderna av tabellen med hjälp av kommandot **energi.head()**, bara så vi vet om den lästes in rätt."
   ]
  },
  {
   "cell_type": "code",
   "execution_count": null,
   "metadata": {
    "scrolled": false
   },
   "outputs": [],
   "source": [
    "energi = pd.read_csv(\"files/global-energy-substitution.csv\")\n",
    "energi.head()"
   ]
  },
  {
   "cell_type": "markdown",
   "metadata": {},
   "source": [
    "Nu vill vi kunna sålla ut information ur tabellen. Här följer några metoder:\n",
    "\n",
    "#### Kolumn\n",
    "Vi kan välja ut en kolumn med värden. Detta kommer att behövas när vi ska föra in data i en graf. \n",
    "````python\n",
    "energi[\"Oil (TWh)\"]  # Återger kolumnen med rubriken Oil (TWh)\n",
    "\n",
    "# Vi kan förstås också spara kolumnen som en variabel:\n",
    "oil = energi[\"Oil (TWh)\"]\n",
    "````\n",
    "\n",
    "#### Värdesökning\n",
    "Vi kan söka de rader som innehåller ett bestämt värde. I python använder vi = för att definiera en variabel och == för att kontrollera en variabel.\n",
    "````python\n",
    "energi[energi[\"Year\"]==2015]   # Kontrollerar tabellen och återger de rader som innehåller årtalet 2015\n",
    "\n",
    "energi[energi[\"Wind (TWh)\"]>0] # Återger de rader där vindkraftsproduktionen är större än 0 TWh.\n",
    "\n",
    "energi[(energi[\"Year\"]<1990) & (energi[\"Wind (TWh)\"]>0)] # Flera krav kan kombineras med & (\"och\").\n",
    "````\n",
    "\n",
    "#### Index\n",
    "Vi kan välja ut rader med hjälp av index. Varje rad i tabellen har ett index längst till vänster, och indexering i python fungerar så att den första raden/elementet alltid har index 0. \n",
    "\n",
    "````python\n",
    "energi[67:69] # Hänvisar till raderna 67 och 68 (år 2015 och 2016), men inte slutgränsen 69.\n",
    "````\n",
    "#### Enskild cell\n",
    "Vi kan använda kommandon loc och iloc för att hänvisa till en viss cell.\n",
    "````python\n",
    "energi.iloc[[67],[2]]          # iloc söker en cell med hjälp av radindex och kolumnindex\n",
    "\n",
    "energi.loc[[67],[\"Oil (TWh)\"]] # loc söker en cell med hjälp av radindex och kolumntitel\n",
    "````\n",
    "\n",
    "\n",
    "````python\n",
    "\n",
    "````"
   ]
  },
  {
   "cell_type": "markdown",
   "metadata": {},
   "source": [
    "### Övning: Informationssökning"
   ]
  },
  {
   "cell_type": "markdown",
   "metadata": {},
   "source": [
    "Med hjälp av tipsen ovan kan du utföra följande övningar:\n",
    "\n",
    "#### Värdesökning\n",
    "\n",
    "Skriv ett kommando som återger de rader i tabellen där produktionen för vindkraft överstiger 1000 TWh. Från och med vilket årtal skedde det här?\n",
    "\n",
    "Skriv ett kommando för att välja ut de rader i tabellen där produktionssiffran för oljeenergi är högre än för biomassa. Från och med vilket årtal skedde det här?\n",
    "\n",
    "#### Index\n",
    "\n",
    "Skriv ett kommando som väljer ut raderna med årtalen 2000-2005. Vilken form av energiproduktion var störst under den tiden?\n",
    "\n",
    "#### Enskild cell\n",
    "\n",
    "Hur hög var produktionen av vattenkraft år 1977? Skriv ett kommando som enbart återger den cellen."
   ]
  },
  {
   "cell_type": "code",
   "execution_count": null,
   "metadata": {},
   "outputs": [],
   "source": [
    "# Skriv din kod här. Skapa fler kodceller vid behov.\n",
    "# Kom ihåg att du måste köra de tidigare kodcellerna så att funktionspaketen och datafilen är tillgängliga."
   ]
  },
  {
   "cell_type": "markdown",
   "metadata": {},
   "source": [
    "#### Spara Binder\n",
    "Du behöver spara dokumentet om du vill kunna visa upp vad du har gjort. På MyBinder görs detta enklast med knappen *Download* uppe i kanten. Man kan senare ladda upp den sparade notebooken.\n",
    "\n",
    "Om du gör uppgifterna i Colab eller lokalt, sparas dina ändringar automatiskt på din Drive eller på hårddisken."
   ]
  }
 ],
 "metadata": {
  "kernelspec": {
   "display_name": "Python 3",
   "language": "python",
   "name": "python3"
  },
  "language_info": {
   "codemirror_mode": {
    "name": "ipython",
    "version": 3
   },
   "file_extension": ".py",
   "mimetype": "text/x-python",
   "name": "python",
   "nbconvert_exporter": "python",
   "pygments_lexer": "ipython3",
   "version": "3.8.8"
  }
 },
 "nbformat": 4,
 "nbformat_minor": 4
}
