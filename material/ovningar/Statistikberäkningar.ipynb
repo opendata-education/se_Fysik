{
 "cells": [
  {
   "cell_type": "markdown",
   "metadata": {},
   "source": [
    "# Statistiska beräkningar med CMS' data."
   ]
  },
  {
   "cell_type": "markdown",
   "metadata": {},
   "source": [
    "> För mer information om vad CMS är, och varför vi använder oss av dess data kan du läsa *CMS och Open Data*-dokumentet i [denna mapp](https://github.com/cms-opendata-education/cms-jupyter-materials-swedish/tree/main/Verktyg).\n",
    "\n",
    "Med hjälp av Python kan vi enkelt beräkna statistiska karakteristika, så som medeltal, varians och stanardavvikelse för statistiska datasets. För dessa exempel kommer vi att använda oss av CMS' kollisionsdata i filen _Jpsimumu_\\__Run2011A.csv_.\n",
    "Filen består av genom bestämda kriterier $^{[1]}$ utvalda kollisionsdata från CMS' DoubleMu-dataset $^{[2]}$ från 2011.\n",
    "\n",
    "Vi börjar beräkningarna genom att hämta in de nödvändiga modulerna och datan, och genom att välja ut värdena för *invariant massa* ur tabellen.\n",
    "\n",
    "<br>\n",
    "<br>\n",
    "<small>\n",
    "[1] Thomas McCauley (2016). Jpsimumu. Jupyter Notebook file. https://github.com/tpmccauley/cmsopendata-jupyter/blob/hst-0.1/Jpsimumu.ipynb.\n",
    "<br>\n",
    "[2] CMS collaboration (2016). DoubleMu primary dataset in AOD format from RunA of 2011 (/DoubleMu/Run2011A-12Oct2013-v1/AOD). CERN Open Data Portal. DOI: [10.7483/OPENDATA.CMS.RZ34.QR6N](http://doi.org/10.7483/OPENDATA.CMS.RZ34.QR6N).\n",
    "</small>"
   ]
  },
  {
   "cell_type": "markdown",
   "metadata": {},
   "source": [
    "### Vi ritar ett histogram"
   ]
  },
  {
   "cell_type": "code",
   "execution_count": 1,
   "metadata": {},
   "outputs": [],
   "source": [
    "# Vi hämtar in de nödvändiga paketen\n",
    "\n",
    "import pandas as pd             # Innehåller funktioner för att läsa datafiler\n",
    "import numpy as np              # Innehåller funktioner för att göra beräkningar\n",
    "%matplotlib inline\n",
    "import matplotlib.pyplot as plt # Innehåller funktioner för att rita grafer\n",
    "\n",
    "# Sedan skapar vi variabeln \"dataset\" och läser in datan dit.\n",
    "# Vi skapar också variabeln inv_massa och väljer ut kolumnen 'M' ur 'dataset'.\n",
    "\n",
    "dataset = pd.read_csv('https://raw.githubusercontent.com/cms-opendata-education/cms-jupyter-materials-finnish/master/Data/Jpsimumu_Run2011A.csv')\n",
    "inv_massa = dataset['M']"
   ]
  },
  {
   "cell_type": "markdown",
   "metadata": {},
   "source": [
    "<br>\n",
    "Vi ritar ett histogram baserat på datasetets invarianta massor."
   ]
  },
  {
   "cell_type": "code",
   "execution_count": 2,
   "metadata": {},
   "outputs": [
    {
     "data": {
      "image/png": "[encoded data removed]",
      "text/plain": [
       "<Figure size 432x288 with 1 Axes>"
      ]
     },
     "metadata": {
      "needs_background": "light"
     },
     "output_type": "display_data"
    }
   ],
   "source": [
    "plt.hist(inv_massa, bins=500)\n",
    "plt.show()"
   ]
  },
  {
   "cell_type": "markdown",
   "metadata": {},
   "source": [
    "Nu vill vi undersöka området kring den stora piken. Vi avgränsar de närmsta värdena och sparar dem som en variabel 'pikdata' och sparar de motsvarande invarianta massorna som 'pik_invmassa'"
   ]
  },
  {
   "cell_type": "code",
   "execution_count": 3,
   "metadata": {},
   "outputs": [
    {
     "data": {
      "image/png": "[encoded data removed]",
      "text/plain": [
       "<Figure size 432x288 with 1 Axes>"
      ]
     },
     "metadata": {
      "needs_background": "light"
     },
     "output_type": "display_data"
    }
   ],
   "source": [
    "pikdata = dataset[(inv_massa>3.0) & (inv_massa<3.2)] # Vi ser att piken ligger ungefär vid 3.1, så vi sätter gränserna nära.\n",
    "pik_invmassa = pikdata['M']\n",
    "plt.hist(pik_invmassa, bins=200)\n",
    "plt.show()"
   ]
  },
  {
   "cell_type": "markdown",
   "metadata": {},
   "source": [
    "### Medeltal $\\bar x$"
   ]
  },
  {
   "cell_type": "markdown",
   "metadata": {},
   "source": [
    "Medeltalsberäkning går smidigt i python genom att vi använder **numpy**-paketets **mean()**-funktion. Vi beräknar ett medeltal för datasetet med alla invarianta massor."
   ]
  },
  {
   "cell_type": "code",
   "execution_count": 4,
   "metadata": {
    "scrolled": true
   },
   "outputs": [
    {
     "name": "stdout",
     "output_type": "stream",
     "text": [
      "3.084373634453779\n"
     ]
    }
   ],
   "source": [
    "medeltal = np.mean(inv_massa)\n",
    "print(medeltal)"
   ]
  },
  {
   "cell_type": "markdown",
   "metadata": {},
   "source": [
    "Vi jämför detta medeltal med medeltalet för *'pik_invmassa'*"
   ]
  },
  {
   "cell_type": "code",
   "execution_count": 5,
   "metadata": {},
   "outputs": [
    {
     "name": "stdout",
     "output_type": "stream",
     "text": [
      "3.0934255293362796\n"
     ]
    }
   ],
   "source": [
    "pik_medeltal = np.mean(pik_invmassa)\n",
    "print(pik_medeltal)"
   ]
  },
  {
   "cell_type": "markdown",
   "metadata": {},
   "source": [
    "### Varians $\\sigma^2$"
   ]
  },
  {
   "cell_type": "markdown",
   "metadata": {},
   "source": [
    "Variansen är ett mått på värdenas spridning. En låg varians innebär att värdena är koncentrerade. En hög varians innebär att värdena är mycket spridda. Det finns en formel för hur vi beräknar varians: $$\\sigma^2 = \\frac{\\sum_{i=1}^{n}(x_i-\\bar{x})^2}{n}.$$\n",
    "\n",
    "Python gör detta arbete lättare. Vi kan berälkna variansen för ett dataset genom att använda **numpy**s funktion **var()**. Vi beräknar variansen för alla invarianta massor."
   ]
  },
  {
   "cell_type": "code",
   "execution_count": 6,
   "metadata": {},
   "outputs": [
    {
     "name": "stdout",
     "output_type": "stream",
     "text": [
      "0.39216919088955843\n"
     ]
    }
   ],
   "source": [
    "varians = np.var(inv_massa)\n",
    "print(varians)"
   ]
  },
  {
   "cell_type": "markdown",
   "metadata": {},
   "source": [
    "...och så gör vi samma beräkning i området nära piken."
   ]
  },
  {
   "cell_type": "code",
   "execution_count": 8,
   "metadata": {},
   "outputs": [
    {
     "name": "stdout",
     "output_type": "stream",
     "text": [
      "0.0012908143684854008\n"
     ]
    }
   ],
   "source": [
    "pik_varians = np.var(pik_invmassa)\n",
    "print(pik_varians)"
   ]
  },
  {
   "cell_type": "markdown",
   "metadata": {},
   "source": [
    "### Standardavvikelse $\\sigma$"
   ]
  },
  {
   "cell_type": "markdown",
   "metadata": {},
   "source": [
    "Standardavvikelsen är också ett mått på spridning, och beräknas som kvadratroten av variansen. För att beräkna den använder vi **numpy**s funktion **sqrt()**:"
   ]
  },
  {
   "cell_type": "code",
   "execution_count": 9,
   "metadata": {},
   "outputs": [
    {
     "name": "stdout",
     "output_type": "stream",
     "text": [
      "0.6262341342417853\n"
     ]
    }
   ],
   "source": [
    "standardavvikelse = np.sqrt(varians)\n",
    "print(standardavvikelse)"
   ]
  },
  {
   "cell_type": "markdown",
   "metadata": {},
   "source": [
    "...och i pikens närområde."
   ]
  },
  {
   "cell_type": "code",
   "execution_count": 10,
   "metadata": {},
   "outputs": [
    {
     "name": "stdout",
     "output_type": "stream",
     "text": [
      "0.03592790515025056\n"
     ]
    }
   ],
   "source": [
    "pik_standardavvikelse = np.sqrt(pik_varians)\n",
    "print(pik_standardavvikelse)"
   ]
  },
  {
   "cell_type": "markdown",
   "metadata": {},
   "source": [
    "Vi märker att spridningsmåtten har mycket större värden när vi använder det dataset som inte var begränsat, medan båda dataseten gav nästan samma medeltal."
   ]
  }
 ],
 "metadata": {
  "kernelspec": {
   "display_name": "Python 3",
   "language": "python",
   "name": "python3"
  },
  "language_info": {
   "codemirror_mode": {
    "name": "ipython",
    "version": 3
   },
   "file_extension": ".py",
   "mimetype": "text/x-python",
   "name": "python",
   "nbconvert_exporter": "python",
   "pygments_lexer": "ipython3",
   "version": "3.8.5"
  }
 },
 "nbformat": 4,
 "nbformat_minor": 2
}
