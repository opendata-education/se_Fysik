{
 "cells": [
  {
   "cell_type": "markdown",
   "id": "94e3caf0",
   "metadata": {},
   "source": [
    "# Att anpassa en funktion till ett diagram"
   ]
  },
  {
   "cell_type": "markdown",
   "id": "0c1da02a",
   "metadata": {},
   "source": [
    "I denna övning ska vi pröva på att anpassa en funktion till ett histogram. Funktionsanpassning är ett mycket användbart verktyg när man vill simplifiera statistik för beräkningar, eller jämföra resultat med en teoretisk modell. Inom partikelfysiken är detta användbart när vi vill avgöra position, höjd och bredd för en pik i ett histogram.\n",
    "\n",
    "Innan du tacklar detta exempel rekommederas att du har bekantat dig med dokumentet **Intro 3: Funktionsanpassning i Python**.\n",
    "\n",
    "Vi utgår från CMS' partikelfysikdata gällande sådana kollisioner där två myoner uppstår. Datafilen *Dimuon_DoubleMu.csv* är hämtad från CERN:s opendata-portal och kan hittas i samma mapp som denna notebook."
   ]
  },
  {
   "cell_type": "markdown",
   "id": "8fef6da1",
   "metadata": {},
   "source": [
    "## Hämta och rita data"
   ]
  },
  {
   "cell_type": "markdown",
   "id": "7bf75996",
   "metadata": {},
   "source": [
    "Vi börjar med att ta in de relevanta funktionspaketen och läsa in datafilen."
   ]
  },
  {
   "cell_type": "code",
   "execution_count": 1,
   "id": "8a0a14e5",
   "metadata": {},
   "outputs": [
    {
     "data": {
      "text/html": [
       "<div>\n",
       "<style scoped>\n",
       "    .dataframe tbody tr th:only-of-type {\n",
       "        vertical-align: middle;\n",
       "    }\n",
       "\n",
       "    .dataframe tbody tr th {\n",
       "        vertical-align: top;\n",
       "    }\n",
       "\n",
       "    .dataframe thead th {\n",
       "        text-align: right;\n",
       "    }\n",
       "</style>\n",
       "<table border=\"1\" class=\"dataframe\">\n",
       "  <thead>\n",
       "    <tr style=\"text-align: right;\">\n",
       "      <th></th>\n",
       "      <th>Run</th>\n",
       "      <th>Event</th>\n",
       "      <th>type1</th>\n",
       "      <th>E1</th>\n",
       "      <th>px1</th>\n",
       "      <th>py1</th>\n",
       "      <th>pz1</th>\n",
       "      <th>pt1</th>\n",
       "      <th>eta1</th>\n",
       "      <th>phi1</th>\n",
       "      <th>...</th>\n",
       "      <th>type2</th>\n",
       "      <th>E2</th>\n",
       "      <th>px2</th>\n",
       "      <th>py2</th>\n",
       "      <th>pz2</th>\n",
       "      <th>pt2</th>\n",
       "      <th>eta2</th>\n",
       "      <th>phi2</th>\n",
       "      <th>Q2</th>\n",
       "      <th>M</th>\n",
       "    </tr>\n",
       "  </thead>\n",
       "  <tbody>\n",
       "    <tr>\n",
       "      <th>0</th>\n",
       "      <td>165617</td>\n",
       "      <td>74601703</td>\n",
       "      <td>G</td>\n",
       "      <td>9.6987</td>\n",
       "      <td>-9.5104</td>\n",
       "      <td>0.3662</td>\n",
       "      <td>1.8633</td>\n",
       "      <td>9.5175</td>\n",
       "      <td>0.1945</td>\n",
       "      <td>3.1031</td>\n",
       "      <td>...</td>\n",
       "      <td>G</td>\n",
       "      <td>9.7633</td>\n",
       "      <td>7.3277</td>\n",
       "      <td>-1.1524</td>\n",
       "      <td>6.3473</td>\n",
       "      <td>7.4178</td>\n",
       "      <td>0.7756</td>\n",
       "      <td>-0.1560</td>\n",
       "      <td>1</td>\n",
       "      <td>17.4922</td>\n",
       "    </tr>\n",
       "    <tr>\n",
       "      <th>1</th>\n",
       "      <td>165617</td>\n",
       "      <td>75100943</td>\n",
       "      <td>G</td>\n",
       "      <td>6.2039</td>\n",
       "      <td>-4.2666</td>\n",
       "      <td>0.4565</td>\n",
       "      <td>-4.4793</td>\n",
       "      <td>4.2910</td>\n",
       "      <td>-0.9121</td>\n",
       "      <td>3.0350</td>\n",
       "      <td>...</td>\n",
       "      <td>G</td>\n",
       "      <td>9.6690</td>\n",
       "      <td>7.2740</td>\n",
       "      <td>-2.8211</td>\n",
       "      <td>-5.7104</td>\n",
       "      <td>7.8019</td>\n",
       "      <td>-0.6786</td>\n",
       "      <td>-0.3700</td>\n",
       "      <td>1</td>\n",
       "      <td>11.5534</td>\n",
       "    </tr>\n",
       "    <tr>\n",
       "      <th>2</th>\n",
       "      <td>165617</td>\n",
       "      <td>75587682</td>\n",
       "      <td>G</td>\n",
       "      <td>19.2892</td>\n",
       "      <td>-4.2121</td>\n",
       "      <td>-0.6516</td>\n",
       "      <td>18.8121</td>\n",
       "      <td>4.2622</td>\n",
       "      <td>2.1905</td>\n",
       "      <td>-2.9881</td>\n",
       "      <td>...</td>\n",
       "      <td>G</td>\n",
       "      <td>9.8244</td>\n",
       "      <td>4.3439</td>\n",
       "      <td>-0.4735</td>\n",
       "      <td>8.7985</td>\n",
       "      <td>4.3697</td>\n",
       "      <td>1.4497</td>\n",
       "      <td>-0.1086</td>\n",
       "      <td>1</td>\n",
       "      <td>9.1636</td>\n",
       "    </tr>\n",
       "    <tr>\n",
       "      <th>3</th>\n",
       "      <td>165617</td>\n",
       "      <td>75660978</td>\n",
       "      <td>G</td>\n",
       "      <td>7.0427</td>\n",
       "      <td>-6.3268</td>\n",
       "      <td>-0.2685</td>\n",
       "      <td>3.0802</td>\n",
       "      <td>6.3325</td>\n",
       "      <td>0.4690</td>\n",
       "      <td>-3.0992</td>\n",
       "      <td>...</td>\n",
       "      <td>G</td>\n",
       "      <td>5.5857</td>\n",
       "      <td>4.4748</td>\n",
       "      <td>0.8489</td>\n",
       "      <td>-3.2319</td>\n",
       "      <td>4.5546</td>\n",
       "      <td>-0.6605</td>\n",
       "      <td>0.1875</td>\n",
       "      <td>1</td>\n",
       "      <td>12.4774</td>\n",
       "    </tr>\n",
       "    <tr>\n",
       "      <th>4</th>\n",
       "      <td>165617</td>\n",
       "      <td>75947690</td>\n",
       "      <td>G</td>\n",
       "      <td>7.2751</td>\n",
       "      <td>0.1030</td>\n",
       "      <td>-5.5331</td>\n",
       "      <td>-4.7212</td>\n",
       "      <td>5.5340</td>\n",
       "      <td>-0.7736</td>\n",
       "      <td>-1.5522</td>\n",
       "      <td>...</td>\n",
       "      <td>G</td>\n",
       "      <td>7.3181</td>\n",
       "      <td>-0.3988</td>\n",
       "      <td>6.9408</td>\n",
       "      <td>2.2825</td>\n",
       "      <td>6.9523</td>\n",
       "      <td>0.3227</td>\n",
       "      <td>1.6282</td>\n",
       "      <td>1</td>\n",
       "      <td>14.3159</td>\n",
       "    </tr>\n",
       "  </tbody>\n",
       "</table>\n",
       "<p>5 rows × 21 columns</p>\n",
       "</div>"
      ],
      "text/plain": [
       "      Run     Event type1       E1     px1     py1      pz1     pt1    eta1  \\\n",
       "0  165617  74601703     G   9.6987 -9.5104  0.3662   1.8633  9.5175  0.1945   \n",
       "1  165617  75100943     G   6.2039 -4.2666  0.4565  -4.4793  4.2910 -0.9121   \n",
       "2  165617  75587682     G  19.2892 -4.2121 -0.6516  18.8121  4.2622  2.1905   \n",
       "3  165617  75660978     G   7.0427 -6.3268 -0.2685   3.0802  6.3325  0.4690   \n",
       "4  165617  75947690     G   7.2751  0.1030 -5.5331  -4.7212  5.5340 -0.7736   \n",
       "\n",
       "     phi1  ...  type2      E2     px2     py2     pz2     pt2    eta2    phi2  \\\n",
       "0  3.1031  ...      G  9.7633  7.3277 -1.1524  6.3473  7.4178  0.7756 -0.1560   \n",
       "1  3.0350  ...      G  9.6690  7.2740 -2.8211 -5.7104  7.8019 -0.6786 -0.3700   \n",
       "2 -2.9881  ...      G  9.8244  4.3439 -0.4735  8.7985  4.3697  1.4497 -0.1086   \n",
       "3 -3.0992  ...      G  5.5857  4.4748  0.8489 -3.2319  4.5546 -0.6605  0.1875   \n",
       "4 -1.5522  ...      G  7.3181 -0.3988  6.9408  2.2825  6.9523  0.3227  1.6282   \n",
       "\n",
       "   Q2        M  \n",
       "0   1  17.4922  \n",
       "1   1  11.5534  \n",
       "2   1   9.1636  \n",
       "3   1  12.4774  \n",
       "4   1  14.3159  \n",
       "\n",
       "[5 rows x 21 columns]"
      ]
     },
     "execution_count": 1,
     "metadata": {},
     "output_type": "execute_result"
    }
   ],
   "source": [
    "import pandas as pd\n",
    "import matplotlib.pyplot as plt\n",
    "\n",
    "data = pd.read_csv('Dimuon_DoubleMu.csv')\n",
    "data.head()"
   ]
  },
  {
   "cell_type": "markdown",
   "id": "88caeb4a",
   "metadata": {},
   "source": [
    "Sedan ritar vi in statistiken från kolumnen **M** (Myonernas sammanlagda massa, mätt i GeV) i ett histogram."
   ]
  },
  {
   "cell_type": "code",
   "execution_count": 2,
   "id": "51642fb7",
   "metadata": {
    "scrolled": true
   },
   "outputs": [
    {
     "data": {
      "image/png": "[encoded data removed]",
      "text/plain": [
       "<Figure size 432x288 with 1 Axes>"
      ]
     },
     "metadata": {
      "needs_background": "light"
     },
     "output_type": "display_data"
    }
   ],
   "source": [
    "plt.hist(data['M'], bins=300)\n",
    "plt.show()"
   ]
  },
  {
   "cell_type": "markdown",
   "id": "710365d4",
   "metadata": {},
   "source": [
    "Vi märker att datan har en liten pik mellan 80 och 100 GeV, så vi vill rita ett nytt histogram över detta intervall. Obs: Denna gång sparar vi `plt.hist()`-funktionens värden. Funktionen återger tre värden, och vi vill använda de två första; staplarnas höjder (antal händelser) och gränser.\n",
    "\n"
   ]
  },
  {
   "cell_type": "code",
   "execution_count": 3,
   "id": "8a25cf09",
   "metadata": {
    "scrolled": true
   },
   "outputs": [
    {
     "data": {
      "image/png": "[encoded data removed]",
      "text/plain": [
       "<Figure size 432x288 with 1 Axes>"
      ]
     },
     "metadata": {
      "needs_background": "light"
     },
     "output_type": "display_data"
    }
   ],
   "source": [
    "undre_grans = 80      # Pro tip: Dessa värden kan skrivas in direkt i koden nedan, men det är praktiskt att\n",
    "ovre_grans = 100      #  samla parametrar på ett ställe ifall man vill justera något i efterhand.\n",
    "antal_staplar = 100   # Då behöver man inte söka genom koden för att se var man borde ändra\n",
    "\n",
    "plt.figure()\n",
    "handelser, granser, _ = plt.hist(data['M'], bins=antal_staplar, range=(undre_grans, ovre_grans))\n",
    "plt.xlabel('Invariant massa (GeV)')\n",
    "plt.ylabel('Antal händelser')\n",
    "plt.show()"
   ]
  },
  {
   "cell_type": "markdown",
   "id": "c267cc73",
   "metadata": {},
   "source": [
    "## Skapa en modell för funktionen"
   ]
  },
  {
   "cell_type": "markdown",
   "id": "17738f3b",
   "metadata": {},
   "source": [
    "Vi vill anpassa en funktion till fördelningen ovan. Inom partikelfysik används ofta [Breit-Wigner -fördelningen](https://en.wikipedia.org/wiki/Relativistic_Breit%E2%80%93Wigner_distribution) - en fördelning som påminner om normalfördelningen. I detta exempel använder vi dock Gauss' normalfördelning, eftersom den är bekant. \n",
    "\n",
    "Normalfördelningens allmänna funktion med standardavvikelsen $\\sigma$ och medelvärdet $\\mu$ ser ut så här:\n",
    "\n",
    "$$f(x) = \\frac{1}{\\sigma \\sqrt{2\\pi}}{e^{\\frac{-(x-\\mu)^2}{2\\sigma^2}}}$$\n",
    "\n",
    "Vi *kan* anpassa den allmänna normalfördelningen till statistiken, men vi får ett betydligt bättre resultat om vi beaktar bakgrundsstrålningen också. Vi kan anta att bakgrundsstrålningen avtar linjärt i intervallet, så som skissen nedan antyder. Vi vill alltså lägga till en linjär funktion $bx + c$ till fördelningen.\n",
    "\n",
    "<img src=\"https://raw.githubusercontent.com/opendata-education/se_Fysik/main/material/ovningar/files/taustasateily.png\" width=400>\n",
    "\n",
    "Funktionen som ska anpassas blir då\n",
    "\n",
    "$$f(x) = ae^{\\frac{-(x-\\mu)^2}{2\\sigma^2}} + bx + c$$\n",
    "\n",
    "där $a$ är en koefficient som ersätter $\\frac{1}{\\sigma \\sqrt{2\\pi}}$, $\\mu$ är väntevärdet, $\\sigma^2$ variansen och $bx$ och $c$ är bakgrundsstrålningen.\n",
    "\n",
    "Vi definierar funktionen i python. Denna funktion har 5 obekanta variabler, så utan hjälpmedel skulle vi inte ha någon annan möjlighet än att gissa oss fram till en anpassning. Python klarar optimeringen fint."
   ]
  },
  {
   "cell_type": "code",
   "execution_count": 4,
   "id": "93cbec04",
   "metadata": {},
   "outputs": [],
   "source": [
    "import numpy as np\n",
    "\n",
    "def gauss(x, *p):\n",
    "    a, mu, sigma, b, c = p\n",
    "    return a*np.exp(-(x-mu)**2/(2.*sigma**2)) + b*x + c"
   ]
  },
  {
   "cell_type": "markdown",
   "id": "df0e3ee8",
   "metadata": {},
   "source": [
    "## Anpassa funktionen"
   ]
  },
  {
   "cell_type": "markdown",
   "id": "e6441b79",
   "metadata": {},
   "source": [
    "Nu ska vi anpassa funktionen med hjälp av **scipy**-paketets **optimize.curve_fit**-kommando. Vi börjar med att bestämma staplarnas mittvärden, så att anpassningen träffar rätt."
   ]
  },
  {
   "cell_type": "code",
   "execution_count": 6,
   "id": "51208e99",
   "metadata": {},
   "outputs": [
    {
     "name": "stdout",
     "output_type": "stream",
     "text": [
      "Väntevärde =  90.8583262531103\n",
      "Pikbredd =  4.493052846553603\n"
     ]
    },
    {
     "data": {
      "image/png": "[encoded data removed]",
      "text/plain": [
       "<Figure size 432x288 with 1 Axes>"
      ]
     },
     "metadata": {
      "needs_background": "light"
     },
     "output_type": "display_data"
    }
   ],
   "source": [
    "from scipy.optimize import curve_fit\n",
    "\n",
    "# Vi får staplarnas mitt genom att beräkna medelvärdet av deras gränser\n",
    "medel = (granser[:-1] + granser[1:])/2\n",
    "\n",
    "# För att göra en anpassning behövs någon sorts startvärden.\n",
    "# Vi gissar rimliga värden på a, mu, sigma, b och c i den ordningen.\n",
    "p0 = [100, 90, 1, 1, 1]\n",
    "\n",
    "# Vi beräknar de optimala koefficienterna \n",
    "koefficienter, _ = curve_fit(gauss, medel, handelser, p0=p0)\n",
    "\n",
    "# Vi beräknar en anpassning med hjälp av koefficienterna\n",
    "anpassning = gauss(medel, *koefficienter)\n",
    "\n",
    "# Vi ritar ut histogramet tillsammans med den anpassade funktionen.\n",
    "plt.hist(data['M'], bins=antal_staplar, range=(undre_grans, ovre_grans))\n",
    "plt.plot(medel, anpassning, label='anpassning')\n",
    "plt.xlabel('Invariant massa (GeV)')\n",
    "plt.ylabel('Antal händelser')\n",
    "\n",
    "# Vi skriver ut väntevärdet och pikens bredd (FWHM, https://sv.wikipedia.org/wiki/Halvv%C3%A4rdesbredd)\n",
    "print('Väntevärde = ', koefficienter[1])\n",
    "print('Pikbredd = ', 2*np.sqrt(2*np.log(2))*koefficienter[2])\n",
    "\n",
    "plt.show()"
   ]
  },
  {
   "cell_type": "markdown",
   "id": "4627b51c",
   "metadata": {},
   "source": [
    "Med dessa resultat som grund kan vi uppskatta Z-bosonens massa till 90,86 GeV. Du kan testa själv: Hur ser anpassningen ut om du tar bort den linjära korrigeringen av bakgrundsstrålningen, eller om du använder [Breit-Wigner -fördelningen](https://en.wikipedia.org/wiki/Relativistic_Breit%E2%80%93Wigner_distribution) istället? Ger Breit-Wigners en bättre anpassning än Gauss' fördelning? Du kan också testa hur antalet staplar kan påverka resultatet."
   ]
  }
 ],
 "metadata": {
  "kernelspec": {
   "display_name": "Python 3",
   "language": "python",
   "name": "python3"
  },
  "language_info": {
   "codemirror_mode": {
    "name": "ipython",
    "version": 3
   },
   "file_extension": ".py",
   "mimetype": "text/x-python",
   "name": "python",
   "nbconvert_exporter": "python",
   "pygments_lexer": "ipython3",
   "version": "3.8.8"
  }
 },
 "nbformat": 4,
 "nbformat_minor": 5
}
