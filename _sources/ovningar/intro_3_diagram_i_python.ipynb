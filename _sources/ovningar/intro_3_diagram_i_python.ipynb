{
 "cells": [
  {
   "cell_type": "markdown",
   "metadata": {},
   "source": [
    "# Intro 3: Diagram i Python"
   ]
  },
  {
   "cell_type": "markdown",
   "metadata": {},
   "source": [
    "I denna övning ska vi se på de verktyg Python erbjuder för att skapa grafer utgående från listor. När vi förstår verktygen kan vi ta listor från tabeller med statistik, och på så sätt visualisera dem. Vi börjar med att läsa in funktionspaketen som behövs, och dataset som ska användas i några övningar och exempel."
   ]
  },
  {
   "cell_type": "code",
   "execution_count": 1,
   "metadata": {},
   "outputs": [],
   "source": [
    "import matplotlib.pyplot as plt  # matplotlib.pyplot innehåller verktyg för att rita grafer och diagram.\n",
    "import pandas as pd              # pandas låter oss läsa in en datafil och spara den som en variabel i python.\n",
    "import numpy as np               "
   ]
  },
  {
   "cell_type": "code",
   "execution_count": 2,
   "metadata": {
    "scrolled": false
   },
   "outputs": [
    {
     "data": {
      "text/html": [
       "<div>\n",
       "<style scoped>\n",
       "    .dataframe tbody tr th:only-of-type {\n",
       "        vertical-align: middle;\n",
       "    }\n",
       "\n",
       "    .dataframe tbody tr th {\n",
       "        vertical-align: top;\n",
       "    }\n",
       "\n",
       "    .dataframe thead th {\n",
       "        text-align: right;\n",
       "    }\n",
       "</style>\n",
       "<table border=\"1\" class=\"dataframe\">\n",
       "  <thead>\n",
       "    <tr style=\"text-align: right;\">\n",
       "      <th></th>\n",
       "      <th>Year</th>\n",
       "      <th>Wind (TWh)</th>\n",
       "      <th>Oil (TWh)</th>\n",
       "      <th>Nuclear (TWh)</th>\n",
       "      <th>Hydropower (TWh)</th>\n",
       "      <th>Biomass (TWh)</th>\n",
       "      <th>Other renewables (TWh)</th>\n",
       "      <th>Biofuels (TWh)</th>\n",
       "      <th>Solar (TWh)</th>\n",
       "      <th>Coal (TWh)</th>\n",
       "      <th>Gas (TWh)</th>\n",
       "    </tr>\n",
       "  </thead>\n",
       "  <tbody>\n",
       "    <tr>\n",
       "      <th>0</th>\n",
       "      <td>1800</td>\n",
       "      <td>0</td>\n",
       "      <td>0</td>\n",
       "      <td>0</td>\n",
       "      <td>0</td>\n",
       "      <td>5556</td>\n",
       "      <td>0</td>\n",
       "      <td>0</td>\n",
       "      <td>0</td>\n",
       "      <td>97</td>\n",
       "      <td>0</td>\n",
       "    </tr>\n",
       "    <tr>\n",
       "      <th>1</th>\n",
       "      <td>1810</td>\n",
       "      <td>0</td>\n",
       "      <td>0</td>\n",
       "      <td>0</td>\n",
       "      <td>0</td>\n",
       "      <td>5833</td>\n",
       "      <td>0</td>\n",
       "      <td>0</td>\n",
       "      <td>0</td>\n",
       "      <td>128</td>\n",
       "      <td>0</td>\n",
       "    </tr>\n",
       "    <tr>\n",
       "      <th>2</th>\n",
       "      <td>1820</td>\n",
       "      <td>0</td>\n",
       "      <td>0</td>\n",
       "      <td>0</td>\n",
       "      <td>0</td>\n",
       "      <td>6111</td>\n",
       "      <td>0</td>\n",
       "      <td>0</td>\n",
       "      <td>0</td>\n",
       "      <td>153</td>\n",
       "      <td>0</td>\n",
       "    </tr>\n",
       "    <tr>\n",
       "      <th>3</th>\n",
       "      <td>1830</td>\n",
       "      <td>0</td>\n",
       "      <td>0</td>\n",
       "      <td>0</td>\n",
       "      <td>0</td>\n",
       "      <td>6389</td>\n",
       "      <td>0</td>\n",
       "      <td>0</td>\n",
       "      <td>0</td>\n",
       "      <td>264</td>\n",
       "      <td>0</td>\n",
       "    </tr>\n",
       "    <tr>\n",
       "      <th>4</th>\n",
       "      <td>1840</td>\n",
       "      <td>0</td>\n",
       "      <td>0</td>\n",
       "      <td>0</td>\n",
       "      <td>0</td>\n",
       "      <td>6944</td>\n",
       "      <td>0</td>\n",
       "      <td>0</td>\n",
       "      <td>0</td>\n",
       "      <td>356</td>\n",
       "      <td>0</td>\n",
       "    </tr>\n",
       "  </tbody>\n",
       "</table>\n",
       "</div>"
      ],
      "text/plain": [
       "   Year  Wind (TWh)  Oil (TWh)  Nuclear (TWh)  Hydropower (TWh)  \\\n",
       "0  1800           0          0              0                 0   \n",
       "1  1810           0          0              0                 0   \n",
       "2  1820           0          0              0                 0   \n",
       "3  1830           0          0              0                 0   \n",
       "4  1840           0          0              0                 0   \n",
       "\n",
       "   Biomass (TWh)  Other renewables (TWh)  Biofuels (TWh)  Solar (TWh)  \\\n",
       "0           5556                       0               0            0   \n",
       "1           5833                       0               0            0   \n",
       "2           6111                       0               0            0   \n",
       "3           6389                       0               0            0   \n",
       "4           6944                       0               0            0   \n",
       "\n",
       "   Coal (TWh)  Gas (TWh)  \n",
       "0          97          0  \n",
       "1         128          0  \n",
       "2         153          0  \n",
       "3         264          0  \n",
       "4         356          0  "
      ]
     },
     "execution_count": 2,
     "metadata": {},
     "output_type": "execute_result"
    }
   ],
   "source": [
    "energi = pd.read_csv(\"files/global-energy-substitution.csv\")\n",
    "energi.head()"
   ]
  },
  {
   "cell_type": "markdown",
   "metadata": {},
   "source": [
    "## Diagram"
   ]
  },
  {
   "cell_type": "markdown",
   "metadata": {},
   "source": [
    "Vi ska se på några typer av diagram. Funktionspaketet matplotlib.pyplot låter oss rita diagram utgående från listor av värden. Vi ska lära oss använda funktionerna **plt.bar(), plt.scatter(), plt.hist()** och **plt.plot()**.\n",
    "\n",
    "Dessa kan rita diagram utgående från listor som du själv antecknar direkt i programmet, eller listor som är tagna ur en DataFrame importerad med **pandas**.\n",
    "\n",
    "Vi vill också snygga till diagramen lite med följande kommandon. Du kan se i kodcellerna nedan hur de används.\n",
    "\n",
    "````python\n",
    "fig = plt.figure(figsize=(8, 5))  # Startkommando (ej nödvändigt)\n",
    "\n",
    "plt.title(\"title\")    # Rubrik\n",
    "plt.xlabel(\"label\")   # x-axelns rubrik\n",
    "plt.ylabel(\"label\")   # y-axelns rubrik\n",
    "\n",
    "plt.xlim(lower, upper)  # välj vilket område som visas\n",
    "plt.ylim(lower, upper)\n",
    "\n",
    "plt.legend()          # Förklaringsruta\n",
    "plt.grid()            # Rutsystem\n",
    "\n",
    "plt.show()            # Avslutande kommando\n",
    "````"
   ]
  },
  {
   "cell_type": "markdown",
   "metadata": {},
   "source": [
    "### Stapeldiagram med plt.bar()"
   ]
  },
  {
   "cell_type": "markdown",
   "metadata": {},
   "source": [
    "För att rita ett stapeldiagram krävs två listor. En med staplarnas höjder (mätvärden, antal, frekvenser etc.) och en med staplarnas namn.\n",
    "\n",
    "Vi gör ett enkelt exempel med påhittade listor."
   ]
  },
  {
   "cell_type": "code",
   "execution_count": 3,
   "metadata": {
    "scrolled": true
   },
   "outputs": [
    {
     "data": {
      "text/plain": [
       "<BarContainer object of 5 artists>"
      ]
     },
     "execution_count": 3,
     "metadata": {},
     "output_type": "execute_result"
    },
    {
     "data": {
      "image/png": "[encoded data removed]",
      "text/plain": [
       "<Figure size 432x288 with 1 Axes>"
      ]
     },
     "metadata": {
      "needs_background": "light"
     },
     "output_type": "display_data"
    }
   ],
   "source": [
    "namn = [\"Små grisar\", \"Små gummor\", \"Små apor\", \"Bröder\", \"Dvärgar\"]\n",
    "antal = [3, 3, 10, 7, 7]                          # Det är viktigt att listorna innehåller lika många element.\n",
    "\n",
    "plt.bar(namn, antal)"
   ]
  },
  {
   "cell_type": "markdown",
   "metadata": {},
   "source": [
    "Vi ritar samma diagram igen, men denna gång lägger vi till rubriker för tydlighet. Vi inleder också med .figure-kommandot som kan bestämma figurens storlek, och avslutar med .show-kommandot som gör resultatet snyggare."
   ]
  },
  {
   "cell_type": "code",
   "execution_count": 4,
   "metadata": {
    "scrolled": true
   },
   "outputs": [
    {
     "data": {
      "image/png": "[encoded data removed]",
      "text/plain": [
       "<Figure size 432x288 with 1 Axes>"
      ]
     },
     "metadata": {
      "needs_background": "light"
     },
     "output_type": "display_data"
    }
   ],
   "source": [
    "fig = plt.figure(figsize = (6,4))\n",
    "\n",
    "plt.bar(namn, antal)\n",
    "\n",
    "plt.title(\"Antal sagofigurer\", fontsize = 16)\n",
    "plt.xlabel(\"Typ av figurer\")\n",
    "plt.ylabel(\"Antal\")\n",
    "\n",
    "plt.show()"
   ]
  },
  {
   "cell_type": "markdown",
   "metadata": {},
   "source": [
    "### Uppgift:\n",
    "\n",
    "Gör ett eget stapeldiagram. Skapa listor själv - hitta på något, eller välj ett av följande exempel:\n",
    "\n",
    "- Antal bilar av varje bilmärke på skolans parkering\n",
    "- Antal födelsedagar per månad bland alla i klassen"
   ]
  },
  {
   "cell_type": "markdown",
   "metadata": {},
   "source": [
    "### Punktdiagram med plt.scatter()"
   ]
  },
  {
   "cell_type": "markdown",
   "metadata": {},
   "source": [
    "Precis som plt.bar(), behöver plt.scatter() ha två listor med värden - x och y. Funktionen ritar sedan in dessa värdepar som punkter i ett koordinatsystem.\n",
    "\n",
    "Vi gör ett exempel där vi ritar in punkter för en parabel, $y \\ = \\ x^2$:"
   ]
  },
  {
   "cell_type": "code",
   "execution_count": 5,
   "metadata": {
    "scrolled": false
   },
   "outputs": [
    {
     "data": {
      "image/png": "[encoded data removed]",
      "text/plain": [
       "<Figure size 288x288 with 1 Axes>"
      ]
     },
     "metadata": {
      "needs_background": "light"
     },
     "output_type": "display_data"
    }
   ],
   "source": [
    "xvarden = [-3, -2, -1, 0, 1, 2, 3]\n",
    "yvarden = [9, 4, 1, 0, 1, 4, 9]\n",
    "\n",
    "fig = plt.figure(figsize = (4,4))\n",
    "plt.scatter(xvarden, yvarden)\n",
    "\n",
    "plt.grid()\n",
    "plt.show()"
   ]
  },
  {
   "cell_type": "markdown",
   "metadata": {},
   "source": [
    "### Graf med plt.plot()"
   ]
  },
  {
   "cell_type": "markdown",
   "metadata": {},
   "source": [
    "Om vi istället för punkter vill ha en sammanbunden linje, kan vi använda plt.plot() på samma sätt som i föregående exempel.\n",
    "\n",
    "Vi testar:"
   ]
  },
  {
   "cell_type": "code",
   "execution_count": 6,
   "metadata": {},
   "outputs": [
    {
     "data": {
      "image/png": "[encoded data removed]",
      "text/plain": [
       "<Figure size 288x288 with 1 Axes>"
      ]
     },
     "metadata": {
      "needs_background": "light"
     },
     "output_type": "display_data"
    }
   ],
   "source": [
    "xvarden = [-3, -2, -1, 0, 1, 2, 3]\n",
    "yvarden = [9, 4, 1, 0, 1, 4, 9]\n",
    "\n",
    "fig = plt.figure(figsize = (4,4))\n",
    "plt.plot(xvarden, yvarden)\n",
    "\n",
    "plt.grid()\n",
    "plt.show()"
   ]
  },
  {
   "cell_type": "markdown",
   "metadata": {},
   "source": [
    "Vi märker att den här parabeln blir ganska \"low resolution\". När man faktiskt ska rita en graf brukar man inte skriva ut alla punkter. Vi gör det så här istället:"
   ]
  },
  {
   "cell_type": "code",
   "execution_count": 7,
   "metadata": {
    "scrolled": false
   },
   "outputs": [
    {
     "data": {
      "image/png": "[encoded data removed]",
      "text/plain": [
       "<Figure size 288x288 with 1 Axes>"
      ]
     },
     "metadata": {
      "needs_background": "light"
     },
     "output_type": "display_data"
    }
   ],
   "source": [
    "x = np.linspace(-3, 3, 100)  # Skapar en lista med 100 värden från -3 till 3\n",
    "y = x**2                     # Beräknar en lista med y-värden utgående från de 100 x-värdena. ** är potensfunktionen.\n",
    "\n",
    "fig = plt.figure(figsize = (4,4))\n",
    "plt.plot(x, y)\n",
    "\n",
    "plt.grid()\n",
    "plt.show()"
   ]
  },
  {
   "cell_type": "markdown",
   "metadata": {},
   "source": [
    "plt.plot-kommandot kommer till användning när vi ska åskådliggöra statistiktabeller. Istället för att konstruera x- och y-listorna som vi gjorde nyss kan vi använda värden ur tabellen.\n",
    "\n",
    "I början av dokumentet hämtade vi in en tabell över världens energiproduktion. **Se till att du har kört den cellen.** Om vi nu vill ha en tabell som visar mängden oljekraft som producerats genom åren kan vi ta x-och y-listorna från tabellen. Tabellen heter *energi*, så för att ta en kolumn ur tabellen kan vi skriva kommandot **energi['KolumnensNamn']**\n",
    "\n",
    "````python\n",
    "year = energi['Year']\n",
    "oil = energi['Oil (TWh)']\n",
    "````\n"
   ]
  },
  {
   "cell_type": "code",
   "execution_count": null,
   "metadata": {},
   "outputs": [],
   "source": []
  },
  {
   "cell_type": "markdown",
   "metadata": {},
   "source": [
    "### Övning:"
   ]
  },
  {
   "cell_type": "markdown",
   "metadata": {},
   "source": [
    "#### Funktion\n",
    "\n",
    "Välj en matematisk funktion att avbilda i ett koordinatsystem som i exemplen ovan. Välj en på egen hand, eller ta ett av förslagen nedan.\n",
    "\n",
    "- Sinusfunktionen. Du kan använda **np.sin(x)** för att beräkna sinusvärden.\n",
    "- Den naturliga exponentialfunktionen. Du kan använda **np.e** för att få nepers tal.\n",
    "- En logaritmfunktion. Du kan exempelvis använda funktionen **np.log(x)** för den naturliga logaritmen, eller **np.log10(x)** för logaritmen med bas 10.\n",
    "\n",
    "\n",
    "#### Statistik\n",
    "\n",
    "1. I cellen nedan skapar vi x- och y-listor (year och oil). Använd dem för att skapa en graf med plt.plot().  \n",
    "2. Skapa fler y-listor (wind, solar...). Skriv fler plt.plot-kommandon med olika y-listor och samma x-lista (year). De kan visas i samma diagram.  \n",
    "3. Lägg till titel och namnge koordinataxlarna."
   ]
  },
  {
   "cell_type": "code",
   "execution_count": 8,
   "metadata": {},
   "outputs": [],
   "source": [
    "# Koda här (Funktion)"
   ]
  },
  {
   "cell_type": "code",
   "execution_count": 9,
   "metadata": {},
   "outputs": [],
   "source": [
    "# Koda här (Statistik)"
   ]
  },
  {
   "cell_type": "markdown",
   "metadata": {},
   "source": [
    "### Histogram med plt.hist()"
   ]
  },
  {
   "cell_type": "markdown",
   "metadata": {},
   "source": [
    "Till skillnad från de tidigare funktionerna använder plt.hist() bara *en* värdelista. För att testa funktionen skapar vi en lista med slumpmässiga värden."
   ]
  },
  {
   "cell_type": "code",
   "execution_count": 19,
   "metadata": {
    "scrolled": true
   },
   "outputs": [],
   "source": [
    "import numpy.random as rand        # Random-paketet innehåller slumpfunktioner\n",
    "histlist = []                      # Vi gör en tom lista, och fyller den sen.\n",
    "\n",
    "for i in range(1000):                            # Detta är en for-loop. range(n) betyder att den upprepas n gånger.\n",
    "    i = rand.randint(1,11)*rand.randint(1,11)    # Vi skapar ett slumpvärdevärde som produkten av två heltal från 1 till 10.\n",
    "    histlist.append(i)                           # .append-kommandot lägger till värdet i listan.\n",
    "\n",
    "# Med print-kommandot kan man titta på listan.\n",
    "# Du kan ta bort #-tecknet om du vill:\n",
    "# print(histlist)"
   ]
  },
  {
   "cell_type": "markdown",
   "metadata": {},
   "source": [
    "Vi har en slumpmäsigt vald lista. Vi använder kommandot plt.hist utan extra parametrar. Då skapas ett histogram med 10 staplar, som börjar vid det lägsta värdet och slutar vid det högsta."
   ]
  },
  {
   "cell_type": "code",
   "execution_count": 17,
   "metadata": {
    "scrolled": false
   },
   "outputs": [
    {
     "data": {
      "image/png": "[encoded data removed]",
      "text/plain": [
       "<Figure size 432x288 with 1 Axes>"
      ]
     },
     "metadata": {
      "needs_background": "light"
     },
     "output_type": "display_data"
    }
   ],
   "source": [
    "plt.hist(histlist)\n",
    "\n",
    "plt.show()"
   ]
  },
  {
   "cell_type": "markdown",
   "metadata": {},
   "source": [
    "Detta är kanske inte ett så tydligt histogram. Det finns några enkla saker vi kan göra för att snygga till det. Vi lägger till informativa benämningar för axlarna med xlabel och ylabel, och använder följande parametrar till plt.hist().\n",
    "\n",
    "**bins = *antal*** bestämmer antalet staplar. 10 staplar används om inget värde anges. \n",
    "\n",
    "**range=(*lower, upper*)** bestämmer var den första stapeln börjar och den sista slutar, om man inte vill använda de automatiskt valda gränserna.\n",
    "\n",
    "**edgecolor = 'black'** kan användas för att lättare urskilja staplarna. Man kan även använda kortversionen **ec = 'k'**\n",
    "\n",
    "\n",
    "\n"
   ]
  },
  {
   "cell_type": "code",
   "execution_count": 18,
   "metadata": {
    "scrolled": false
   },
   "outputs": [
    {
     "data": {
      "image/png": "[encoded data removed]",
      "text/plain": [
       "<Figure size 432x288 with 1 Axes>"
      ]
     },
     "metadata": {
      "needs_background": "light"
     },
     "output_type": "display_data"
    }
   ],
   "source": [
    "plt.hist(histlist, bins=10, range=(0,100), edgecolor = 'black')\n",
    "\n",
    "plt.xlabel(\"Slumptal\")\n",
    "plt.ylabel(\"Frekvens\")\n",
    "\n",
    "plt.show()"
   ]
  },
  {
   "cell_type": "markdown",
   "metadata": {},
   "source": [
    "### Steget vidare"
   ]
  },
  {
   "cell_type": "markdown",
   "metadata": {},
   "source": [
    "Nu känner du till de viktigaste visuella verktygen som finns till ditt förfogande när du använder Python. Jupyter Notebooks är dokument som lämpar sig bra för att växla förklarande texter med programmering eller beräkningar, och är därför bra att använda till labbrapporter och liknande arbeten.\n",
    "\n",
    "Om du vill göra fler övningar med statistik- och datahantering hittar du sådana i vårt material. Om du vill öva på egen hand kan du söka data från webbsidorna som nämns på vår hemsida.\n",
    "\n",
    "Lycka till!"
   ]
  }
 ],
 "metadata": {
  "kernelspec": {
   "display_name": "Python 3",
   "language": "python",
   "name": "python3"
  },
  "language_info": {
   "codemirror_mode": {
    "name": "ipython",
    "version": 3
   },
   "file_extension": ".py",
   "mimetype": "text/x-python",
   "name": "python",
   "nbconvert_exporter": "python",
   "pygments_lexer": "ipython3",
   "version": "3.8.5"
  }
 },
 "nbformat": 4,
 "nbformat_minor": 4
}
