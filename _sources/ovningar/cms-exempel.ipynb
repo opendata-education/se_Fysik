{
 "cells": [
  {
   "cell_type": "markdown",
   "metadata": {},
   "source": [
    "# CMS och Open Data"
   ]
  },
  {
   "cell_type": "markdown",
   "metadata": {},
   "source": [
    "I CERNs CMS-projekt låter man protoner kollidera och undersöker vilka partiklar som bildas i kollisionerna. Från dessa kollisioner samlar man upp stora mängder data, som publiceras öppet på [CERNs OpenData-portal](https://opendata.cern.ch/). I denna övning ska vi se på vad dessa datasets innehåller och vad man kan lära sig genom dem. Detta ger eleverna möjlighet att pröva på verkliga vetenskapliga metoder med autentiska mätvärden."
   ]
  },
  {
   "cell_type": "markdown",
   "metadata": {},
   "source": [
    "## 1. Hämta Data"
   ]
  },
  {
   "cell_type": "markdown",
   "metadata": {},
   "source": [
    "Vi börjar med att hämta in datasets. Datan har laddats in från CERNs OpenData-portal och sparats i samma mapp som denna Notebook, för att göra det enkelt att läsa in den i detta dokument. Vi undersöker datafilen **Dimuon_DoubleMu.csv**, som innehåller data från *de kollisioner som har producerat två myoner*."
   ]
  },
  {
   "cell_type": "code",
   "execution_count": 1,
   "metadata": {},
   "outputs": [],
   "source": [
    "# Vi börjar med att importera funktionspaketen som behövs med hjälp av import-kommandot\n",
    "# Denna cell måste köras för att resten av koden ska fungera. Tryck Ctrl+Enter för att köra.\n",
    "\n",
    "import pandas as pd\n",
    "import matplotlib.pyplot as plt"
   ]
  },
  {
   "cell_type": "code",
   "execution_count": 4,
   "metadata": {},
   "outputs": [],
   "source": [
    "# Vi läser in filen och sparar den med variabelnamnet tvillingmyoner\n",
    "\n",
    "tvillingmyoner = pd.read_csv('Dimuon_DoubleMu.csv')"
   ]
  },
  {
   "cell_type": "code",
   "execution_count": 6,
   "metadata": {
    "scrolled": true
   },
   "outputs": [
    {
     "data": {
      "text/html": [
       "<div>\n",
       "<style scoped>\n",
       "    .dataframe tbody tr th:only-of-type {\n",
       "        vertical-align: middle;\n",
       "    }\n",
       "\n",
       "    .dataframe tbody tr th {\n",
       "        vertical-align: top;\n",
       "    }\n",
       "\n",
       "    .dataframe thead th {\n",
       "        text-align: right;\n",
       "    }\n",
       "</style>\n",
       "<table border=\"1\" class=\"dataframe\">\n",
       "  <thead>\n",
       "    <tr style=\"text-align: right;\">\n",
       "      <th></th>\n",
       "      <th>Run</th>\n",
       "      <th>Event</th>\n",
       "      <th>type1</th>\n",
       "      <th>E1</th>\n",
       "      <th>px1</th>\n",
       "      <th>py1</th>\n",
       "      <th>pz1</th>\n",
       "      <th>pt1</th>\n",
       "      <th>eta1</th>\n",
       "      <th>phi1</th>\n",
       "      <th>...</th>\n",
       "      <th>type2</th>\n",
       "      <th>E2</th>\n",
       "      <th>px2</th>\n",
       "      <th>py2</th>\n",
       "      <th>pz2</th>\n",
       "      <th>pt2</th>\n",
       "      <th>eta2</th>\n",
       "      <th>phi2</th>\n",
       "      <th>Q2</th>\n",
       "      <th>M</th>\n",
       "    </tr>\n",
       "  </thead>\n",
       "  <tbody>\n",
       "    <tr>\n",
       "      <th>0</th>\n",
       "      <td>165617</td>\n",
       "      <td>74601703</td>\n",
       "      <td>G</td>\n",
       "      <td>9.6987</td>\n",
       "      <td>-9.5104</td>\n",
       "      <td>0.3662</td>\n",
       "      <td>1.8633</td>\n",
       "      <td>9.5175</td>\n",
       "      <td>0.1945</td>\n",
       "      <td>3.1031</td>\n",
       "      <td>...</td>\n",
       "      <td>G</td>\n",
       "      <td>9.7633</td>\n",
       "      <td>7.3277</td>\n",
       "      <td>-1.1524</td>\n",
       "      <td>6.3473</td>\n",
       "      <td>7.4178</td>\n",
       "      <td>0.7756</td>\n",
       "      <td>-0.1560</td>\n",
       "      <td>1</td>\n",
       "      <td>17.4922</td>\n",
       "    </tr>\n",
       "    <tr>\n",
       "      <th>1</th>\n",
       "      <td>165617</td>\n",
       "      <td>75100943</td>\n",
       "      <td>G</td>\n",
       "      <td>6.2039</td>\n",
       "      <td>-4.2666</td>\n",
       "      <td>0.4565</td>\n",
       "      <td>-4.4793</td>\n",
       "      <td>4.2910</td>\n",
       "      <td>-0.9121</td>\n",
       "      <td>3.0350</td>\n",
       "      <td>...</td>\n",
       "      <td>G</td>\n",
       "      <td>9.6690</td>\n",
       "      <td>7.2740</td>\n",
       "      <td>-2.8211</td>\n",
       "      <td>-5.7104</td>\n",
       "      <td>7.8019</td>\n",
       "      <td>-0.6786</td>\n",
       "      <td>-0.3700</td>\n",
       "      <td>1</td>\n",
       "      <td>11.5534</td>\n",
       "    </tr>\n",
       "    <tr>\n",
       "      <th>2</th>\n",
       "      <td>165617</td>\n",
       "      <td>75587682</td>\n",
       "      <td>G</td>\n",
       "      <td>19.2892</td>\n",
       "      <td>-4.2121</td>\n",
       "      <td>-0.6516</td>\n",
       "      <td>18.8121</td>\n",
       "      <td>4.2622</td>\n",
       "      <td>2.1905</td>\n",
       "      <td>-2.9881</td>\n",
       "      <td>...</td>\n",
       "      <td>G</td>\n",
       "      <td>9.8244</td>\n",
       "      <td>4.3439</td>\n",
       "      <td>-0.4735</td>\n",
       "      <td>8.7985</td>\n",
       "      <td>4.3697</td>\n",
       "      <td>1.4497</td>\n",
       "      <td>-0.1086</td>\n",
       "      <td>1</td>\n",
       "      <td>9.1636</td>\n",
       "    </tr>\n",
       "    <tr>\n",
       "      <th>3</th>\n",
       "      <td>165617</td>\n",
       "      <td>75660978</td>\n",
       "      <td>G</td>\n",
       "      <td>7.0427</td>\n",
       "      <td>-6.3268</td>\n",
       "      <td>-0.2685</td>\n",
       "      <td>3.0802</td>\n",
       "      <td>6.3325</td>\n",
       "      <td>0.4690</td>\n",
       "      <td>-3.0992</td>\n",
       "      <td>...</td>\n",
       "      <td>G</td>\n",
       "      <td>5.5857</td>\n",
       "      <td>4.4748</td>\n",
       "      <td>0.8489</td>\n",
       "      <td>-3.2319</td>\n",
       "      <td>4.5546</td>\n",
       "      <td>-0.6605</td>\n",
       "      <td>0.1875</td>\n",
       "      <td>1</td>\n",
       "      <td>12.4774</td>\n",
       "    </tr>\n",
       "    <tr>\n",
       "      <th>4</th>\n",
       "      <td>165617</td>\n",
       "      <td>75947690</td>\n",
       "      <td>G</td>\n",
       "      <td>7.2751</td>\n",
       "      <td>0.1030</td>\n",
       "      <td>-5.5331</td>\n",
       "      <td>-4.7212</td>\n",
       "      <td>5.5340</td>\n",
       "      <td>-0.7736</td>\n",
       "      <td>-1.5522</td>\n",
       "      <td>...</td>\n",
       "      <td>G</td>\n",
       "      <td>7.3181</td>\n",
       "      <td>-0.3988</td>\n",
       "      <td>6.9408</td>\n",
       "      <td>2.2825</td>\n",
       "      <td>6.9523</td>\n",
       "      <td>0.3227</td>\n",
       "      <td>1.6282</td>\n",
       "      <td>1</td>\n",
       "      <td>14.3159</td>\n",
       "    </tr>\n",
       "  </tbody>\n",
       "</table>\n",
       "<p>5 rows × 21 columns</p>\n",
       "</div>"
      ],
      "text/plain": [
       "      Run     Event type1       E1     px1     py1      pz1     pt1    eta1  \\\n",
       "0  165617  74601703     G   9.6987 -9.5104  0.3662   1.8633  9.5175  0.1945   \n",
       "1  165617  75100943     G   6.2039 -4.2666  0.4565  -4.4793  4.2910 -0.9121   \n",
       "2  165617  75587682     G  19.2892 -4.2121 -0.6516  18.8121  4.2622  2.1905   \n",
       "3  165617  75660978     G   7.0427 -6.3268 -0.2685   3.0802  6.3325  0.4690   \n",
       "4  165617  75947690     G   7.2751  0.1030 -5.5331  -4.7212  5.5340 -0.7736   \n",
       "\n",
       "     phi1  ...  type2      E2     px2     py2     pz2     pt2    eta2    phi2  \\\n",
       "0  3.1031  ...      G  9.7633  7.3277 -1.1524  6.3473  7.4178  0.7756 -0.1560   \n",
       "1  3.0350  ...      G  9.6690  7.2740 -2.8211 -5.7104  7.8019 -0.6786 -0.3700   \n",
       "2 -2.9881  ...      G  9.8244  4.3439 -0.4735  8.7985  4.3697  1.4497 -0.1086   \n",
       "3 -3.0992  ...      G  5.5857  4.4748  0.8489 -3.2319  4.5546 -0.6605  0.1875   \n",
       "4 -1.5522  ...      G  7.3181 -0.3988  6.9408  2.2825  6.9523  0.3227  1.6282   \n",
       "\n",
       "   Q2        M  \n",
       "0   1  17.4922  \n",
       "1   1  11.5534  \n",
       "2   1   9.1636  \n",
       "3   1  12.4774  \n",
       "4   1  14.3159  \n",
       "\n",
       "[5 rows x 21 columns]"
      ]
     },
     "execution_count": 6,
     "metadata": {},
     "output_type": "execute_result"
    }
   ],
   "source": [
    "# Vi tar en titt på tabellen.\n",
    "\n",
    "tvillingmyoner.head()"
   ]
  },
  {
   "cell_type": "markdown",
   "metadata": {},
   "source": [
    "I tabellen finns mycket information. Varje rad motsvarar en kollision som har producerat två myoner, och båda myonernas egenskaper syns i tabellen. Exempelvis **E1** och **E2** står för myonernas energier, och **p** står för rörelsemängd (anges även i x- y- och z-led). Den sista kolumnen, **M**, innehåller myonernas invarianta massa, som vi ska se mer noggrannt på."
   ]
  },
  {
   "cell_type": "code",
   "execution_count": 7,
   "metadata": {},
   "outputs": [
    {
     "data": {
      "text/plain": [
       "100000"
      ]
     },
     "execution_count": 7,
     "metadata": {},
     "output_type": "execute_result"
    }
   ],
   "source": [
    "# Vi kontrollerar ur många rader som finns i tabellen\n",
    "\n",
    "len(tvillingmyoner)"
   ]
  },
  {
   "cell_type": "markdown",
   "metadata": {},
   "source": [
    "## 2. Invariant massa & histogram"
   ]
  },
  {
   "cell_type": "markdown",
   "metadata": {},
   "source": [
    "Från tidigare forskning vet vi att många olika partiklar kan sönderfalla till två myoner, och att myonernas invarianta massa kan visa oss vilken ursprungspartikeln är. CMS-detektorn kan mäta myonernas energi och rörelsemängd, och då kan deras invarianta massa beräknas enligt\n",
    "\n",
    "$M = \\sqrt{(E_1 + E_2)^2 - \\|\\textbf{p}_1 + \\textbf{p}_2 \\| ^2}$.\n",
    "\n",
    "Om myonerna uppkom ur en enda partikels sönderfall motsvarar myonernas invarianta massa denna partikels massa. Om myonerna inte uppkommit ur samma partikel säger inte den invarianta massan oss något.\n",
    "\n",
    "När protonerna kolliderar i partikelacceleratorn frigörs energi, som ger upphov till nya partiklar. En sådan partikel är Z-bosonen, som är väldigt kortlivad, och snabbt sönderfaller till andra partiklar, exempelvis två myoner. Dessa två myoner registreras av partikeldetektorn och när vi beräknar myonernas invarianta massa kan vi se att den motsvarar \"moderpartikelns\" massa - i detta fall Z-bosonens.\n",
    "\n",
    "Histogramet är ett utmärkt verktyg för att ge en översikt över resultat från partikelexperiment. Om vi gör ett histogram över de invarianta massorna kan vi urskilja de viktiga händelserna från bakgrundsbruset."
   ]
  },
  {
   "cell_type": "code",
   "execution_count": 8,
   "metadata": {},
   "outputs": [
    {
     "data": {
      "image/png": "[encoded data removed]",
      "text/plain": [
       "<Figure size 1080x720 with 1 Axes>"
      ]
     },
     "metadata": {
      "needs_background": "light"
     },
     "output_type": "display_data"
    }
   ],
   "source": [
    "# Den invarianta massan kan beräknas genom formeln ovan, och hittas också i kolumnen 'M' i tabellen.\n",
    "# Vi sparar kolumnen med den invarianta massorna som en egen variabel.\n",
    "invariant_massa = tvillingmyoner['M']\n",
    "\n",
    "# Vi skapar ett histogram över de invarianta massorna med 300 staplar (\"bins\")\n",
    "fig = plt.figure(figsize=(15, 10))\n",
    "plt.hist(invariant_massa , bins=300)\n",
    "\n",
    "# Här lägger vi till en rubrik och namnger axlarna.\n",
    "plt.xlabel('Invariant massa [GeV/c²]', fontsize=15)\n",
    "plt.ylabel('Antal händelser', fontsize=15)\n",
    "plt.title('Två myoners invarianta massa', fontsize=15)\n",
    "\n",
    "# Vi visar diagramet.\n",
    "plt.show()"
   ]
  },
  {
   "cell_type": "markdown",
   "metadata": {},
   "source": [
    "Vi märker att det finns flera toppar i histogrammet. Varje topp motsvarar massan hos en av de möjliga moderpartiklarna för myonparet. Vi undersöker närmare intervallet med den sista toppen, 80 GeV - 100 GeV."
   ]
  },
  {
   "cell_type": "code",
   "execution_count": 9,
   "metadata": {},
   "outputs": [
    {
     "data": {
      "image/png": "[encoded data removed]",
      "text/plain": [
       "<Figure size 1080x720 with 1 Axes>"
      ]
     },
     "metadata": {
      "needs_background": "light"
     },
     "output_type": "display_data"
    }
   ],
   "source": [
    "# Vi ritar ett histogram över två myoners invarianta massa med 100 staplar från 80 GeV till 100 GeV.\n",
    "fig = plt.figure(figsize=(15, 10))\n",
    "plt.hist(invariant_massa , bins=100, range=(80,100))\n",
    "\n",
    "# Vi lägger till samma titel och axlar\n",
    "plt.xlabel('Invariant massa [GeV/c²]', fontsize=15)\n",
    "plt.ylabel('Antal händelser', fontsize=15)\n",
    "plt.title('Två myoners invarianta massa', fontsize=15)\n",
    "\n",
    "plt.show()"
   ]
  },
  {
   "cell_type": "markdown",
   "metadata": {},
   "source": [
    "Vi märker att datan har en topp vid ungefär 91 GeV, som tydligt skiljer sig ur bakgrundsbruset. Detta tyder på att myonerna uppstår från någon partikel med massan 91 GeV. Den partikeln känner vi som *Z-bosonen*."
   ]
  },
  {
   "cell_type": "markdown",
   "metadata": {},
   "source": [
    "Testa själv att söka upp en annan topp ur datan. Motsvarar den en annan partikel? Vilken partikel är det fråga om?"
   ]
  },
  {
   "cell_type": "code",
   "execution_count": 12,
   "metadata": {},
   "outputs": [
    {
     "data": {
      "image/png": "[encoded data removed]",
      "text/plain": [
       "<Figure size 1080x720 with 1 Axes>"
      ]
     },
     "metadata": {
      "needs_background": "light"
     },
     "output_type": "display_data"
    }
   ],
   "source": [
    "# Vi ritar ett histogram över två myoners invarianta massa med 100 staplar från 80 GeV till 100 GeV.\n",
    "fig = plt.figure(figsize=(15, 10))\n",
    "plt.hist(invariant_massa , bins=100, range=(100,300))\n",
    "\n",
    "# Vi lägger till samma titel och axlar\n",
    "plt.xlabel('Invariant massa [GeV/c²]', fontsize=15)\n",
    "plt.ylabel('Antal händelser', fontsize=15)\n",
    "plt.title('Två myoners invarianta massa', fontsize=15)\n",
    "\n",
    "plt.show()"
   ]
  }
 ],
 "metadata": {
  "kernelspec": {
   "display_name": "Python 3",
   "language": "python",
   "name": "python3"
  },
  "language_info": {
   "codemirror_mode": {
    "name": "ipython",
    "version": 3
   },
   "file_extension": ".py",
   "mimetype": "text/x-python",
   "name": "python",
   "nbconvert_exporter": "python",
   "pygments_lexer": "ipython3",
   "version": "3.8.5"
  }
 },
 "nbformat": 4,
 "nbformat_minor": 2
}
